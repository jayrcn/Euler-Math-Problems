{
 "cells": [
  {
   "cell_type": "code",
   "execution_count": 4,
   "id": "6245cec8",
   "metadata": {},
   "outputs": [
    {
     "name": "stdout",
     "output_type": "stream",
     "text": [
      "232792560\n"
     ]
    }
   ],
   "source": [
    "num = 2\n",
    "while True:\n",
    "    if all(num % n == 0 for n in range(1,21)): #THIS CHECKS ALL NUMBERS to see if it is divisible by numbers 1-20 perfectly without any remainder\n",
    "        print(num)\n",
    "        break\n",
    "    else:\n",
    "        num += 2\n",
    "#Only check even numbers hence why we have the PLUS 2 after every iteration"
   ]
  },
  {
   "cell_type": "code",
   "execution_count": null,
   "id": "fb1c929c",
   "metadata": {},
   "outputs": [],
   "source": []
  }
 ],
 "metadata": {
  "kernelspec": {
   "display_name": "Python 3 (ipykernel)",
   "language": "python",
   "name": "python3"
  },
  "language_info": {
   "codemirror_mode": {
    "name": "ipython",
    "version": 3
   },
   "file_extension": ".py",
   "mimetype": "text/x-python",
   "name": "python",
   "nbconvert_exporter": "python",
   "pygments_lexer": "ipython3",
   "version": "3.9.12"
  }
 },
 "nbformat": 4,
 "nbformat_minor": 5
}
