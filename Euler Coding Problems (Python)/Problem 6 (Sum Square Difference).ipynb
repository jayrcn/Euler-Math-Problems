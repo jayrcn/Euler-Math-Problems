{
 "cells": [
  {
   "cell_type": "code",
   "execution_count": 3,
   "id": "1416b411",
   "metadata": {},
   "outputs": [
    {
     "data": {
      "text/plain": [
       "25164150"
      ]
     },
     "execution_count": 3,
     "metadata": {},
     "output_type": "execute_result"
    }
   ],
   "source": [
    "sum_of_the_squares = 0\n",
    "sum_of_numbers = 0\n",
    "\n",
    "for a in range(1,101):\n",
    "    sum_of_the_squares += a ** 2 #for the numbers 1-100 we are adding the squares of each and totaling it to SOTS\n",
    "    sum_of_numbers += a #add all the numbers between 1-100 then....\n",
    "\n",
    "square_of_sum = sum_of_numbers ** 2 #then here, after totalling all the numbers added from 1-100(1+2...100) we square that total amount\n",
    "\n",
    "square_of_sum - sum_of_the_squares\n",
    "\n",
    "#in the spec sqaure of sum was shown as a greater number so we are taking this number minus the SUM OF SQAURES\n",
    "#even if we subtracted in the reverse order we would just take the positive version of the output if it was negative"
   ]
  },
  {
   "cell_type": "code",
   "execution_count": null,
   "id": "3f73fe32",
   "metadata": {},
   "outputs": [],
   "source": []
  }
 ],
 "metadata": {
  "kernelspec": {
   "display_name": "Python 3 (ipykernel)",
   "language": "python",
   "name": "python3"
  },
  "language_info": {
   "codemirror_mode": {
    "name": "ipython",
    "version": 3
   },
   "file_extension": ".py",
   "mimetype": "text/x-python",
   "name": "python",
   "nbconvert_exporter": "python",
   "pygments_lexer": "ipython3",
   "version": "3.9.12"
  }
 },
 "nbformat": 4,
 "nbformat_minor": 5
}
