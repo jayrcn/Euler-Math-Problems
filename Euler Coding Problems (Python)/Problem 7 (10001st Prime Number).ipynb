{
 "cells": [
  {
   "cell_type": "code",
   "execution_count": 1,
   "id": "c875563b",
   "metadata": {},
   "outputs": [],
   "source": [
    "from sympy import prime"
   ]
  },
  {
   "cell_type": "code",
   "execution_count": 2,
   "id": "17947d9c",
   "metadata": {},
   "outputs": [
    {
     "data": {
      "text/plain": [
       "104743"
      ]
     },
     "execution_count": 2,
     "metadata": {},
     "output_type": "execute_result"
    }
   ],
   "source": [
    "prime(10001)"
   ]
  },
  {
   "cell_type": "code",
   "execution_count": null,
   "id": "f85d8844",
   "metadata": {},
   "outputs": [],
   "source": [
    "#use libraries to be more efficient"
   ]
  }
 ],
 "metadata": {
  "kernelspec": {
   "display_name": "Python 3 (ipykernel)",
   "language": "python",
   "name": "python3"
  },
  "language_info": {
   "codemirror_mode": {
    "name": "ipython",
    "version": 3
   },
   "file_extension": ".py",
   "mimetype": "text/x-python",
   "name": "python",
   "nbconvert_exporter": "python",
   "pygments_lexer": "ipython3",
   "version": "3.9.12"
  }
 },
 "nbformat": 4,
 "nbformat_minor": 5
}
