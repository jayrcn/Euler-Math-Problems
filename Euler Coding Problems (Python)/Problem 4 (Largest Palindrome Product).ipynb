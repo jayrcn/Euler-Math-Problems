{
 "cells": [
  {
   "cell_type": "code",
   "execution_count": 1,
   "id": "cb756ec2",
   "metadata": {},
   "outputs": [
    {
     "name": "stdout",
     "output_type": "stream",
     "text": [
      "This is a palindromic number\n"
     ]
    }
   ],
   "source": [
    "num = 1221\n",
    "if str(num) == str(num)[::-1]: #if the number string equals the same way if read backwards\n",
    "    print(\"This is a palindromic number\")\n",
    "else:\n",
    "    (\"It aint a plaindromic number \") #logic to detrmine if a number is palindromic or not"
   ]
  },
  {
   "cell_type": "code",
   "execution_count": 4,
   "id": "2bc6c809",
   "metadata": {},
   "outputs": [],
   "source": [
    "min_value = 100*100\n",
    "max_value = 999*999\n",
    "palindromes = []\n",
    "for num in range(min_value,max_value):\n",
    "    if str(num) == str(num)[::-1]:\n",
    "        palindromes.append(num) #this creates the plaindromes list from the values of 100*100 and 999*999 (3 Digit Products)"
   ]
  },
  {
   "cell_type": "code",
   "execution_count": 5,
   "id": "f4abb842",
   "metadata": {},
   "outputs": [
    {
     "data": {
      "text/plain": [
       "906609"
      ]
     },
     "execution_count": 5,
     "metadata": {},
     "output_type": "execute_result"
    }
   ],
   "source": [
    "result = []\n",
    "for num in palindromes:\n",
    "    for a in range(100,1000):\n",
    "        if num % a == 0 and len(str(int(num/a))) == 3: ##this function is creditied to PCB \n",
    "            result.append(num)\n",
    "            #the nested loop reads all the pal nums in the listt and checks if it is a product of 2 THREE DIGIT NUMBERS\n",
    "\n",
    "max(result)"
   ]
  },
  {
   "cell_type": "code",
   "execution_count": null,
   "id": "8a663756",
   "metadata": {},
   "outputs": [],
   "source": []
  }
 ],
 "metadata": {
  "kernelspec": {
   "display_name": "Python 3 (ipykernel)",
   "language": "python",
   "name": "python3"
  },
  "language_info": {
   "codemirror_mode": {
    "name": "ipython",
    "version": 3
   },
   "file_extension": ".py",
   "mimetype": "text/x-python",
   "name": "python",
   "nbconvert_exporter": "python",
   "pygments_lexer": "ipython3",
   "version": "3.9.12"
  }
 },
 "nbformat": 4,
 "nbformat_minor": 5
}
