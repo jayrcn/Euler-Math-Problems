{
 "cells": [
  {
   "cell_type": "code",
   "execution_count": 1,
   "id": "7fec7d36",
   "metadata": {},
   "outputs": [],
   "source": [
    "num = (\"73167176531330624919225119674426574742355349194934\"\n",
    "\"96983520312774506326239578318016984801869478851843\"\n",
    "\"85861560789112949495459501737958331952853208805511\"\n",
    "\"12540698747158523863050715693290963295227443043557\"\n",
    "\"66896648950445244523161731856403098711121722383113\"\n",
    "\"62229893423380308135336276614282806444486645238749\"\n",
    "\"30358907296290491560440772390713810515859307960866\"\n",
    "\"70172427121883998797908792274921901699720888093776\"\n",
    "\"65727333001053367881220235421809751254540594752243\"\n",
    "\"52584907711670556013604839586446706324415722155397\"\n",
    "\"53697817977846174064955149290862569321978468622482\"\n",
    "\"83972241375657056057490261407972968652414535100474\"\n",
    "\"82166370484403199890008895243450658541227588666881\"\n",
    "\"16427171479924442928230863465674813919123162824586\"\n",
    "\"17866458359124566529476545682848912883142607690042\"\n",
    "\"24219022671055626321111109370544217506941658960408\"\n",
    "\"07198403850962455444362981230987879927244284909188\"\n",
    "\"84580156166097919133875499200524063689912560717606\"\n",
    "\"05886116467109405077541002256983155200055935729725\"\n",
    "\"71636269561882670428252483600823257530420752963450\")"
   ]
  },
  {
   "cell_type": "code",
   "execution_count": 2,
   "id": "d0faa0b3",
   "metadata": {},
   "outputs": [],
   "source": [
    "a = 0\n",
    "result = []\n",
    "while a + 13 <= 1000:\n",
    "    product_value = 1\n",
    "    thirteen_digits = num[a:a+13]\n",
    "    for b in list(thirteen_digits):\n",
    "        product_value *= int(b)\n",
    "    result.append(product_value)\n",
    "    a += 1 #what this code does is that it goes through every possible 13 adjacent number pair going through each number as \n",
    "    #its starting point numbers within the large number and multiplies them together\n",
    "    #the first 13 numbers gets multiplied and produces a product, then the second number is the new \"a\" variable and the 13 number \n",
    "    # next to the second digit in the number is then multiplied with the 13 right next to it, etc)\n",
    "    #all values of the 13 adjcent pair of numbers within this number is added to the results list"
   ]
  },
  {
   "cell_type": "code",
   "execution_count": 3,
   "id": "50dc886b",
   "metadata": {},
   "outputs": [
    {
     "data": {
      "text/plain": [
       "23514624000"
      ]
     },
     "execution_count": 3,
     "metadata": {},
     "output_type": "execute_result"
    }
   ],
   "source": [
    "max(result) #out of all the 13 adjacent pairs in the number, which product has the greatest value?"
   ]
  },
  {
   "cell_type": "code",
   "execution_count": null,
   "id": "8536e1c7",
   "metadata": {},
   "outputs": [],
   "source": []
  }
 ],
 "metadata": {
  "kernelspec": {
   "display_name": "Python 3 (ipykernel)",
   "language": "python",
   "name": "python3"
  },
  "language_info": {
   "codemirror_mode": {
    "name": "ipython",
    "version": 3
   },
   "file_extension": ".py",
   "mimetype": "text/x-python",
   "name": "python",
   "nbconvert_exporter": "python",
   "pygments_lexer": "ipython3",
   "version": "3.9.12"
  }
 },
 "nbformat": 4,
 "nbformat_minor": 5
}
