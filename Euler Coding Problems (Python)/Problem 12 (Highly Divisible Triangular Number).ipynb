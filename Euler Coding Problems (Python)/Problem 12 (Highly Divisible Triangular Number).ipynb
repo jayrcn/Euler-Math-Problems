{
 "cells": [
  {
   "cell_type": "code",
   "execution_count": 1,
   "id": "ef9da6f4",
   "metadata": {},
   "outputs": [],
   "source": [
    "from sympy import divisors #returns all divisors of a number"
   ]
  },
  {
   "cell_type": "code",
   "execution_count": 2,
   "id": "45b0d0d1",
   "metadata": {},
   "outputs": [
    {
     "name": "stdout",
     "output_type": "stream",
     "text": [
      "76576500\n"
     ]
    }
   ],
   "source": [
    "a = 1\n",
    "while True: #this while loop looks for a number with over 500 divisiors\n",
    "    triangle = sum(range(1,a+1)) #goes from 1 to infinity eseentially until a number with 500 divisors is found\n",
    "    a += 1\n",
    "    if len(divisors(triangle)) > 500: #501th divisor for a number (ONCE the code finds a number with over 500 divisors (501) it stops )\n",
    "        print(triangle)\n",
    "        break #what this does "
   ]
  },
  {
   "cell_type": "code",
   "execution_count": null,
   "id": "2473dfdb",
   "metadata": {},
   "outputs": [],
   "source": []
  }
 ],
 "metadata": {
  "kernelspec": {
   "display_name": "Python 3 (ipykernel)",
   "language": "python",
   "name": "python3"
  },
  "language_info": {
   "codemirror_mode": {
    "name": "ipython",
    "version": 3
   },
   "file_extension": ".py",
   "mimetype": "text/x-python",
   "name": "python",
   "nbconvert_exporter": "python",
   "pygments_lexer": "ipython3",
   "version": "3.9.12"
  }
 },
 "nbformat": 4,
 "nbformat_minor": 5
}
