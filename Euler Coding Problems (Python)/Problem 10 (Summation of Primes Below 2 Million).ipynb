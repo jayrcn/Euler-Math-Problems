{
 "cells": [
  {
   "cell_type": "code",
   "execution_count": 1,
   "id": "1c60da46",
   "metadata": {},
   "outputs": [],
   "source": [
    "def prime(number):\n",
    "    for j in range(2, int((number**0.5))+1):\n",
    "        if not number % j:\n",
    "            return False\n",
    "    return True #checks to see if it is a prime number"
   ]
  },
  {
   "cell_type": "code",
   "execution_count": 2,
   "id": "32de8be1",
   "metadata": {},
   "outputs": [],
   "source": [
    "total = 2\n",
    "\n",
    "for j in range(3,2000000,2):\n",
    "    if prime(j):\n",
    "        total += j"
   ]
  },
  {
   "cell_type": "code",
   "execution_count": 3,
   "id": "8f308808",
   "metadata": {},
   "outputs": [
    {
     "name": "stdout",
     "output_type": "stream",
     "text": [
      "142913828922\n"
     ]
    }
   ],
   "source": [
    "print(total)"
   ]
  },
  {
   "cell_type": "code",
   "execution_count": null,
   "id": "9013f5b5",
   "metadata": {},
   "outputs": [],
   "source": []
  }
 ],
 "metadata": {
  "kernelspec": {
   "display_name": "Python 3 (ipykernel)",
   "language": "python",
   "name": "python3"
  },
  "language_info": {
   "codemirror_mode": {
    "name": "ipython",
    "version": 3
   },
   "file_extension": ".py",
   "mimetype": "text/x-python",
   "name": "python",
   "nbconvert_exporter": "python",
   "pygments_lexer": "ipython3",
   "version": "3.9.12"
  }
 },
 "nbformat": 4,
 "nbformat_minor": 5
}
